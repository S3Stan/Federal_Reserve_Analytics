{
 "cells": [
  {
   "cell_type": "markdown",
   "metadata": {},
   "source": [
    "<img src=\"Analysis_repo\\Images\\data_logo.png\" alt=\"Data_Logo\" title=\"Data_Logo\" style=\"float:right;margin-right: 7px;\" width=\"150\"/>\n",
    "\n",
    "## Federal Reserve Data Analytics\n",
    "#### _Prime Rate and US Inflation Analytics_"
   ]
  },
  {
   "cell_type": "markdown",
   "metadata": {},
   "source": []
  }
 ],
 "metadata": {
  "language_info": {
   "name": "python"
  }
 },
 "nbformat": 4,
 "nbformat_minor": 2
}
