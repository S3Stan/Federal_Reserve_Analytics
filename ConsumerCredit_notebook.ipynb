{
 "cells": [
  {
   "cell_type": "markdown",
   "metadata": {},
   "source": [
    "## Consumer Credit Analysis 2013 to 2023"
   ]
  },
  {
   "cell_type": "markdown",
   "metadata": {},
   "source": [
    "### [1] Sumary and introduction of the study  \n",
    "\n",
    "<< Consumer credit summary>>\n",
    "\n",
    "_What does this data represent?_<br>\n",
    "The following data is time series consumer credit card data collected by the Federal Reserve Bank on a month to month basis. This data amongst other data is used to analyse the credit health of the American consumers\n",
    "\n",
    "_Purpose of analysis?_<br>\n",
    "The purpose of this study is to create models that can be used to predict trends in the consumer credit. Another purpose of this study is to find out which other economic data are relevant in prediciting trends in consumer credit and by correlation.\n",
    "\n",
    "_Data source:_<br>\n",
    "The dataset source can be found at: https://www.federalreserve.gov/releases/g19/current/default.htm\n"
   ]
  },
  {
   "cell_type": "markdown",
   "metadata": {},
   "source": [
    "### [2] Data study and general imports"
   ]
  },
  {
   "cell_type": "code",
   "execution_count": 1,
   "metadata": {},
   "outputs": [],
   "source": [
    "# import \n",
    "import Analysis_repo\n",
    "from Analysis_repo import sourceCode\n",
    "from Analysis_repo import notebook_import_library as importLibrary\n",
    "\n",
    "\n",
    "# Get the data form the Source code file\n",
    "try:\n",
    "    consumer_credit_data = sourceCode.sendConsumerCreditData() # get consumer credit data\n",
    "    interest_rate_data = sourceCode.sendInterestRateData() # get interest rate data\n",
    "    #print(consumer_credit_data) # print out the columns\n",
    "except Exception as e:\n",
    "    print(\"An exception occurred:\", e)\n",
    "    \n",
    "# actual for analysis\n",
    "credit_data_analysis = consumer_credit_data[5:]\n",
    "    "
   ]
  },
  {
   "cell_type": "code",
   "execution_count": 52,
   "metadata": {},
   "outputs": [
    {
     "name": "stdout",
     "output_type": "stream",
     "text": [
      "Rows: 130 Cols: 51\n"
     ]
    },
    {
     "data": {
      "text/plain": [
       "Index(['Series Description',\n",
       "       'Total consumer credit owned and securitized, seasonally adjusted flow, monthly rate',\n",
       "       'Revolving consumer credit owned and securitized, seasonally adjusted flow, monthly rate',\n",
       "       'Nonrevolving consumer credit owned and securitized, seasonally adjusted flow, monthly rate',\n",
       "       'Total consumer credit owned and securitized, not seasonally adjusted flow, monthly rate',\n",
       "       'Total securitized consumer credit, not seasonally adjusted flow, monthly rate',\n",
       "       'Total consumer credit owned and securitized by depository institutions, not seasonally adjusted flow, monthly rate',\n",
       "       'Total consumer credit owned by depository institutions, not seasonally adjusted flow, monthly rate',\n",
       "       'Total consumer credit owned by commercial banks, not seasonally adjusted flow, monthly rate (discontinued after February 2011)',\n",
       "       'Total consumer credit owned by savings institutions, not seasonally adjusted flow, monthly rate (discontinued after February 2011)',\n",
       "       'Total consumer credit securitized by depository institutions, not seasonally adjusted flow, monthly rate',\n",
       "       'Total consumer credit owned and securitized by finance companies, not seasonally adjusted flow, monthly rate',\n",
       "       'Total consumer credit owned by finance companies, not seasonally adjusted flow, monthly rate',\n",
       "       'Total consumer credit securitized by finance companies, not seasonally adjusted flow, monthly rate',\n",
       "       'Total consumer credit owned by credit unions, not seasonally adjusted flow, monthly rate',\n",
       "       'Total consumer credit owned by federal government, not seasonally adjusted flow, monthly rate',\n",
       "       'Total consumer credit owned by nonprofit and educational institutions, not seasonally adjusted flow, monthly rate',\n",
       "       'Total consumer credit owned and securitized by nonfinancial business, not seasonally adjusted flow, monthly rate',\n",
       "       'Total consumer credit owned by nonfinancial business, not seasonally adjusted flow, monthly rate',\n",
       "       'Total consumer credit securitized by nonfinancial business, not seasonally adjusted flow, monthly rate',\n",
       "       'Revolving consumer credit owned and securitized, not seasonally adjusted flow, monthly rate',\n",
       "       'Revolving securitized consumer credit, not seasonally adjusted flow, monthly rate',\n",
       "       'Revolving consumer credit owned and securitized by depository institutions, not seasonally adjusted flow, monthly rate',\n",
       "       'Revolving consumer credit owned by depository institutions, not seasonally adjusted flow, monthly rate',\n",
       "       'Revolving consumer credit owned by savings institutions, not seasonally adjusted flow, monthly rate (discontinued after February 2011)',\n",
       "       'Revolving consumer credit securitized by depository institutions, not seasonally adjusted flow, monthly rate',\n",
       "       'Revolving consumer credit owned and securitized by finance companies, not seasonally adjusted flow, monthly rate',\n",
       "       'Revolving consumer credit owned by finance companies, not seasonally adjusted flow, monthly rate',\n",
       "       'Revolving consumer credit securitized by finance companies, not seasonally adjusted flow, monthly rate',\n",
       "       'Revolving consumer credit owned by credit unions, not seasonally adjusted flow, monthly rate',\n",
       "       'Revolving consumer credit owned and securitized by nonfinancial business, not seasonally adjusted flow, monthly rate',\n",
       "       'Revolving consumer credit owned by nonfinancial business, not seasonally adjusted flow, monthly rate',\n",
       "       'Revolving consumer credit securitized by nonfinancial business, not seasonally adjusted flow, monthly rate',\n",
       "       'Nonrevolving consumer credit owned and securitized, not seasonally adjusted flow, monthly rate',\n",
       "       'Nonrevolving securitized consumer credit, not seasonally adjusted flow, monthly rate',\n",
       "       'Nonrevolving consumer credit owned and securitized by depository institutions, not seasonally adjusted flow, monthly rate',\n",
       "       'Nonrevolving consumer credit owned by depository institutions, not seasonally adjusted flow, monthly rate',\n",
       "       'Nonrevolving consumer credit owned by commercial banks, not seasonally adjusted flow, monthly rate (discontinued after February 2011)',\n",
       "       'Nonrevolving consumer credit owned by savings institutions, not seasonally adjusted flow, monthly rate (discontinued after February 2011)',\n",
       "       'Nonrevolving consumer credit securitized by depository institutions, not seasonally adjusted flow, monthly rate',\n",
       "       'Nonrevolving consumer credit owned and securitized by finance companies, not seasonally adjusted flow, monthly rate',\n",
       "       'Nonrevolving consumer credit owned by finance companies, not seasonally adjusted flow, monthly rate',\n",
       "       'Nonrevolving consumer credit securitized by finance companies, not seasonally adjusted flow, monthly rate',\n",
       "       'Nonrevolving consumer credit owned by credit unions, not seasonally adjusted flow, monthly rate',\n",
       "       'Nonrevolving consumer credit owned by federal government, not seasonally adjusted flow, monthly rate',\n",
       "       'Nonrevolving consumer credit owned by nonprofit and educational institutions, not seasonally adjusted flow, monthly rate',\n",
       "       'Nonrevolving consumer credit owned and securitized by nonfinancial business, not seasonally adjusted flow, monthly rate',\n",
       "       'Nonrevolving consumer credit owned by nonfinancial business, not seasonally adjusted flow, monthly rate',\n",
       "       'Nonrevolving consumer credit securitized by nonfinancial business, not seasonally adjusted flow, monthly rate',\n",
       "       'Student loans owned and securitized, not seasonally adjusted flow, monthly rate',\n",
       "       'Motor vehicle loans owned and securitized, not seasonally adjusted flow, monthly rate'],\n",
       "      dtype='object')"
      ]
     },
     "execution_count": 52,
     "metadata": {},
     "output_type": "execute_result"
    }
   ],
   "source": [
    "# 1. Dimensions of the datatset\n",
    "print(\"Rows:\", credit_data_analysis.shape[0] , \"Cols:\", credit_data_analysis.shape[1])\n",
    "\n",
    "# 2. Data types in the dataset\n",
    "#print(\"Data types:\", credit_data_analysis.info())\n",
    "\n",
    "# 3. Checking for missing values in dataset\n",
    "#count_of_missing = credit_data_analysis.isna().sum()\n",
    "#print(\"Missing values:\", count_of_missing)\n",
    "dropped = consumer_credit_data.drop(['Revolving consumer credit owned by commercial banks, not seasonally adjusted flow, monthly rate (discontinued after February 2011)'], axis=1)\n",
    "dropped.columns\n",
    "\n",
    "\n",
    "# >>>>> handling missing values"
   ]
  },
  {
   "cell_type": "code",
   "execution_count": null,
   "metadata": {},
   "outputs": [],
   "source": []
  },
  {
   "cell_type": "code",
   "execution_count": null,
   "metadata": {},
   "outputs": [],
   "source": []
  }
 ],
 "metadata": {
  "kernelspec": {
   "display_name": "Python 3",
   "language": "python",
   "name": "python3"
  },
  "language_info": {
   "codemirror_mode": {
    "name": "ipython",
    "version": 3
   },
   "file_extension": ".py",
   "mimetype": "text/x-python",
   "name": "python",
   "nbconvert_exporter": "python",
   "pygments_lexer": "ipython3",
   "version": "3.11.4"
  }
 },
 "nbformat": 4,
 "nbformat_minor": 2
}
