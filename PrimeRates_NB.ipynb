{
 "cells": [
  {
   "cell_type": "markdown",
   "metadata": {},
   "source": [
    "<img src=\"Analysis_repo\\Images\\data_logo.png\" alt=\"Data_Logo\" title=\"Data_Logo\" style=\"float:right;margin-right: 7px;\" width=\"150\"/>\n",
    "\n",
    "## Federal Reserve Data Analytics\n",
    "### _Prime Rate Analytics_"
   ]
  },
  {
   "cell_type": "markdown",
   "metadata": {},
   "source": [
    "### [1] Sumary and introduction of the study  \n",
    "\n",
    "<< Consumer credit summary>>\n",
    "\n",
    "_What does this data represent?_<br>\n",
    "The following data is time series consumer credit card data collected by the Federal Reserve Bank on a month to month basis. This data amongst other data is used to analyse the credit health of the American consumers. the time period under interest is for he past decade, 2013 to 2023.\n",
    "\n",
    "_Purpose of analysis?_<br>\n",
    "The purpose of this study is to create models that can be used to predict trends in the consumer credit. Another purpose of this study is to find out which other economic data are relevant in prediciting trends in consumer credit and by correlation.\n",
    "\n",
    "Data of interest in this analysis:\n",
    "1. Federal Reserve Prime Monthly Interest Rates\n",
    "2. Average majority prime rate charged by banks\n",
    "3. fed....\n",
    "\n",
    "_Study Question:_\n",
    "1. How does consumer credit change over time in relation to the FED interest rate? \n",
    "\n",
    "_Data source(s):_<br>\n",
    "1. Consumer credit data: https://www.federalreserve.gov/releases/g19/current/default.htm\n",
    "2. Intrest Rate data: https://www.federalreserve.gov/datadownload/Choose.aspx?rel=H15\n"
   ]
  },
  {
   "cell_type": "code",
   "execution_count": null,
   "metadata": {},
   "outputs": [],
   "source": []
  }
 ],
 "metadata": {
  "language_info": {
   "name": "python"
  }
 },
 "nbformat": 4,
 "nbformat_minor": 2
}
