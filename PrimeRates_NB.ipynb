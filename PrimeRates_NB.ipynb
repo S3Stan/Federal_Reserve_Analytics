{
 "cells": [
  {
   "cell_type": "markdown",
   "metadata": {},
   "source": [
    "<img src=\"Analysis_repo\\Images\\data_logo.png\" alt=\"Data_Logo\" title=\"Data_Logo\" style=\"float:right;margin-right: 7px;\" width=\"150\"/>\n",
    "\n",
    "## Federal Reserve Data Analytics\n",
    "### _Prime Rate Analytics_"
   ]
  },
  {
   "cell_type": "markdown",
   "metadata": {},
   "source": [
    "### [1] Summary and introduction to the study  \n",
    "\n",
    "Mismanaged risk in dealing with consumer credit data formed a key component during the global financial crisis in 2008. Many lessons were learned from that market crash with regards to dealing with un-securtized consumer credit and general credit. \n",
    "\n",
    "In this study we are going to examine consumer credit data since the global financial crisis and see if we have learned our lessons and where we can improve our understanding of global market credit risk in our ever increasingly interconnected world.<br><br>\n",
    "\n",
    "<b>_1.1 - What does this data represent?_</b><br>\n",
    "The following data is time series consumer credit and interest/prime rate data collected by the Federal Reserve Bank on a month-to-month basis. This data amongst other data is used to analyse the credit health of the American consumers in relation to the prevailing interest rates. The time period under interest is for the past decade, 2013 to 2023. \n",
    "\n",
    "_Disclaimer: An update is pending to make it so that users can pick a time period that they desire to analyse the data_<br><br>\n",
    "\n",
    "<b>_1.2 - Purpose of analysis?_</b><br>\n",
    "The purpose of this study is analyse the consumer credit data through various methods including using this very data to create models that can be used to uncover relationships and predict trends that prevail within consumer credit data and the interest/prime rate data through various market cycles over time.<br><br>\n",
    "\n",
    "<b>_1.3 - Who is this analysis useful to?_</b><br>\n",
    "This analysis is useful to various stakeholders including:\n",
    "- companies that offer credit services to clients, \n",
    "- banks, \n",
    "- educational institutions and many other organizations.<br><br>\n",
    "\n",
    "<b>_1.4 - The Economic data we are going to focus in on this study are_:</b><br>\n",
    "\n",
    "1. US Prime Rate Data\n",
    "    - Federal Reserve prime rate\n",
    "    - US Banks Interest rate<br>\n",
    "\n",
    "3. US Consumer Credit data\n",
    "    - Revolving Total consumer credit owned and securitized\n",
    "    - Non-revolving total consumer credit owned and securitized<br>\n",
    "    - Finance companies\n",
    "    - Non-financial companies\n",
    "    - Non-profit and educational institutions\n",
    "    - Federal Government\n",
    "    - Credit unions<br>\n",
    "\n",
    "<b>_1.5 - Questions that we seek to answer in this study:_</b><br>\n",
    "\n",
    "1. Rear view question \n",
    "2. rear view question\n",
    "3. How does consumer credit change over time in relation to the FED interest rate? \n",
    "4. How does consumer credit change over time in relation to the FED interest rate? \n",
    "5. How does consumer credit change over time in relation to the FED interest rate? \n",
    "6. How does consumer credit change over time in relation to the FED interest rate? \n",
    "7. How does consumer credit change over time in relation to the FED interest rate? \n",
    "8. future based question\n",
    "9. future based question\n",
    "10. Conclusion \n",
    "\n",
    "<b>_1.6 - Data source(s):_</b><br>\n",
    "- Consumer credit data: https://www.federalreserve.gov/releases/g19/current/default.htm\n",
    "- Intrest Rate data: https://www.federalreserve.gov/datadownload/Choose.aspx?rel=H15\n",
    "\n"
   ]
  },
  {
   "cell_type": "markdown",
   "metadata": {},
   "source": [
    "### [1] Sumary and introduction of the study  \n",
    "\n",
    "<< Consumer credit summary>>\n",
    "\n",
    "_What does this data represent?_<br>\n",
    "The following data is time series consumer credit card data collected by the Federal Reserve Bank on a month to month basis. This data amongst other data is used to analyse the credit health of the American consumers. the time period under interest is for he past decade, 2013 to 2023.\n",
    "\n",
    "_Purpose of analysis?_<br>\n",
    "The purpose of this study is to create models that can be used to predict trends in the consumer credit. Another purpose of this study is to find out which other economic data are relevant in prediciting trends in consumer credit and by correlation.\n",
    "\n",
    "Data of interest in this analysis:\n",
    "1. Federal Reserve Prime Monthly Interest Rates\n",
    "2. Average majority prime rate charged by banks\n",
    "3. fed....\n",
    "\n",
    "_Study Question:_\n",
    "1. How does consumer credit change over time in relation to the FED interest rate? \n",
    "\n",
    "_Data source(s):_<br>\n",
    "1. Consumer credit data: https://www.federalreserve.gov/releases/g19/current/default.htm\n",
    "2. Intrest Rate data: https://www.federalreserve.gov/datadownload/Choose.aspx?rel=H15\n"
   ]
  },
  {
   "cell_type": "code",
   "execution_count": null,
   "metadata": {},
   "outputs": [],
   "source": [
    "# credit\n",
    "\n"
   ]
  }
 ],
 "metadata": {
  "language_info": {
   "name": "python"
  }
 },
 "nbformat": 4,
 "nbformat_minor": 2
}
